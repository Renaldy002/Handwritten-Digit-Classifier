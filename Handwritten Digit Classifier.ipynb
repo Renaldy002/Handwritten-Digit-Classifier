{
  "cells": [
    {
      "cell_type": "markdown",
      "metadata": {
        "id": "palQfXCDlJz9"
      },
      "source": [
        "<h1>Project Deep Leaning Kelompok 5</h1>\n",
        "\n",
        "<h3>\n",
        "1. 2301861831 - Reyhan Nathanael<br>\n",
        "2. 2301846414 - Nicholas Vigo Wardhana<br>\n",
        "3. 2301888051 - Michael Febrianto Lu<br>\n",
        "4. 2301817063 -Renaldy<br>\n",
        "5. 2301864846 - Kevin Sam Andaria<br>\n",
        "</h3>"
      ]
    },
    {
      "cell_type": "markdown",
      "metadata": {
        "id": "MI0971L_lTAq"
      },
      "source": [
        "#import library"
      ]
    },
    {
      "cell_type": "code",
      "execution_count": null,
      "metadata": {
        "id": "t6Gso0vqJMJx"
      },
      "outputs": [],
      "source": [
        "import numpy as np\n",
        "import pandas as pd\n",
        "from matplotlib import pyplot as plt\n",
        "from tensorflow.keras.datasets import mnist\n",
        "from tensorflow.keras.utils import to_categorical\n",
        "from tensorflow.keras.models import Sequential\n",
        "from tensorflow.keras.layers import Conv2D,MaxPooling2D,Dense,Flatten,Dropout\n",
        "from tensorflow.keras.optimizers import SGD\n",
        "from sklearn.metrics import f1_score, precision_score, recall_score\n",
        "from sklearn.metrics import classification_report\n",
        "from sklearn.metrics import confusion_matrix\n",
        "import cv2\n",
        "import ipywidgets as widgets\n",
        "from ipywidgets import Layout, Button, Box\n",
        "from IPython.display import display, HTML, Image\n",
        "from google.colab.output import eval_js\n",
        "from base64 import b64decode"
      ]
    },
    {
      "cell_type": "markdown",
      "metadata": {
        "id": "Afq5vuaslus9"
      },
      "source": [
        "#Read Dataset"
      ]
    },
    {
      "cell_type": "code",
      "execution_count": null,
      "metadata": {
        "colab": {
          "base_uri": "https://localhost:8080/"
        },
        "id": "aNE-v9VaJOPb",
        "outputId": "a756b6ed-07d6-425a-e050-fd75569ee332"
      },
      "outputs": [
        {
          "name": "stdout",
          "output_type": "stream",
          "text": [
            "Downloading data from https://storage.googleapis.com/tensorflow/tf-keras-datasets/mnist.npz\n",
            "11493376/11490434 [==============================] - 0s 0us/step\n",
            "11501568/11490434 [==============================] - 0s 0us/step\n"
          ]
        }
      ],
      "source": [
        "(train_x, train_y), (test_x, test_y) = mnist.load_data()"
      ]
    },
    {
      "cell_type": "markdown",
      "metadata": {
        "id": "FzdkIlFGmDC-"
      },
      "source": [
        "#Show train image"
      ]
    },
    {
      "cell_type": "code",
      "execution_count": null,
      "metadata": {
        "colab": {
          "base_uri": "https://localhost:8080/"
        },
        "id": "kSkYCf0JKoqV",
        "outputId": "075ee1a7-675d-4daf-ac2a-b8e357249941"
      },
      "outputs": [
        {
          "data": {
            "image/png": "[encoded data removed]",
            "text/plain": [
              "<Figure size 1296x288 with 5 Axes>"
            ]
          },
          "metadata": {},
          "output_type": "display_data"
        }
      ],
      "source": [
        "fig, ax = plt.subplots(1,5,figsize=(18,4))\n",
        "for i in range(0,5):\n",
        "  plt.subplot(1,5,i+1)\n",
        "  plt.title(train_y[i])\n",
        "  plt.imshow(train_x[i], cmap='gray', vmin=0, vmax=255)\n",
        "  plt.axis('off')\n",
        "plt.show()"
      ]
    },
    {
      "cell_type": "markdown",
      "metadata": {
        "id": "f2d6oXpOmG3z"
      },
      "source": [
        "#Normalize dataset"
      ]
    },
    {
      "cell_type": "code",
      "execution_count": null,
      "metadata": {
        "id": "PLLwwNzgJWdp"
      },
      "outputs": [],
      "source": [
        "train_norm = train_x.reshape((train_x.shape[0], 28, 28, 1))\n",
        "test_norm = test_x.reshape((test_x.shape[0], 28, 28, 1))"
      ]
    },
    {
      "cell_type": "code",
      "execution_count": null,
      "metadata": {
        "id": "ZKQ-x3YDJunJ"
      },
      "outputs": [],
      "source": [
        "#normalize Y to categorial\n",
        "train_y = to_categorical(train_y)\n",
        "test_y = to_categorical(test_y)\n",
        "#normalize x devided by 255 (intensity pixel)\n",
        "train_norm = train_norm.astype('float32')\n",
        "test_norm = test_norm.astype('float32')\n",
        "train_norm = train_norm / 255.0\n",
        "test_norm = test_norm / 255.0"
      ]
    },
    {
      "cell_type": "markdown",
      "metadata": {
        "id": "D6X2B8GBmKxk"
      },
      "source": [
        "#Make Model"
      ]
    },
    {
      "cell_type": "code",
      "execution_count": null,
      "metadata": {
        "colab": {
          "base_uri": "https://localhost:8080/"
        },
        "id": "q03xGb5zKIub",
        "outputId": "d40515a7-e65f-4d77-d5a2-2188f6c76bd4"
      },
      "outputs": [
        {
          "name": "stdout",
          "output_type": "stream",
          "text": [
            "Model: \"sequential_1\"\n",
            "_________________________________________________________________\n",
            " Layer (type)                Output Shape              Param #   \n",
            "=================================================================\n",
            " conv2d_2 (Conv2D)           (None, 26, 26, 32)        320       \n",
            "                                                                 \n",
            " max_pooling2d_2 (MaxPooling  (None, 13, 13, 32)       0         \n",
            " 2D)                                                             \n",
            "                                                                 \n",
            " conv2d_3 (Conv2D)           (None, 11, 11, 64)        18496     \n",
            "                                                                 \n",
            " max_pooling2d_3 (MaxPooling  (None, 5, 5, 64)         0         \n",
            " 2D)                                                             \n",
            "                                                                 \n",
            " dropout_3 (Dropout)         (None, 5, 5, 64)          0         \n",
            "                                                                 \n",
            " flatten_1 (Flatten)         (None, 1600)              0         \n",
            "                                                                 \n",
            " dense_3 (Dense)             (None, 128)               204928    \n",
            "                                                                 \n",
            " dropout_4 (Dropout)         (None, 128)               0         \n",
            "                                                                 \n",
            " dense_4 (Dense)             (None, 64)                8256      \n",
            "                                                                 \n",
            " dropout_5 (Dropout)         (None, 64)                0         \n",
            "                                                                 \n",
            " dense_5 (Dense)             (None, 10)                650       \n",
            "                                                                 \n",
            "=================================================================\n",
            "Total params: 232,650\n",
            "Trainable params: 232,650\n",
            "Non-trainable params: 0\n",
            "_________________________________________________________________\n"
          ]
        }
      ],
      "source": [
        "model = Sequential()\n",
        "model.add(Conv2D(32, (3, 3), activation='relu', input_shape=(28, 28, 1)))\n",
        "model.add(MaxPooling2D((2, 2)))\n",
        "model.add(Conv2D(64,(3,3), activation='relu'))\n",
        "model.add(MaxPooling2D((2, 2)))\n",
        "model.add(Dropout(0.2))\n",
        "model.add(Flatten())\n",
        "model.add(Dense(128, activation='relu'))\n",
        "model.add(Dropout(0.2))\n",
        "model.add(Dense(64, activation='relu'))\n",
        "model.add(Dropout(0.2))\n",
        "model.add(Dense(10, activation='softmax'))\n",
        "# compile model\n",
        "opt = SGD(learning_rate=0.01, momentum=0.9)\n",
        "model.compile(optimizer=opt, loss='categorical_crossentropy', metrics=['accuracy'])\n",
        "model.summary()"
      ]
    },
    {
      "cell_type": "markdown",
      "metadata": {
        "id": "R6efYjGCmOId"
      },
      "source": [
        "#Train Model"
      ]
    },
    {
      "cell_type": "code",
      "execution_count": null,
      "metadata": {
        "colab": {
          "background_save": true,
          "base_uri": "https://localhost:8080/"
        },
        "id": "I32uLZYLNvhE",
        "outputId": "b3fe31e9-597d-400a-973a-4e096b102cdd"
      },
      "outputs": [
        {
          "name": "stdout",
          "output_type": "stream",
          "text": [
            "Epoch 1/10\n",
            "1313/1313 [==============================] - 13s 9ms/step - loss: 0.3648 - accuracy: 0.8812 - val_loss: 0.0808 - val_accuracy: 0.9752\n",
            "Epoch 2/10\n",
            "1313/1313 [==============================] - 11s 8ms/step - loss: 0.1101 - accuracy: 0.9687 - val_loss: 0.0633 - val_accuracy: 0.9804\n",
            "Epoch 3/10\n",
            "1313/1313 [==============================] - 10s 8ms/step - loss: 0.0787 - accuracy: 0.9764 - val_loss: 0.0509 - val_accuracy: 0.9844\n",
            "Epoch 4/10\n",
            "1313/1313 [==============================] - 14s 11ms/step - loss: 0.0653 - accuracy: 0.9806 - val_loss: 0.0583 - val_accuracy: 0.9843\n",
            "Epoch 5/10\n",
            "1313/1313 [==============================] - 11s 8ms/step - loss: 0.0555 - accuracy: 0.9830 - val_loss: 0.0463 - val_accuracy: 0.9864\n",
            "Epoch 6/10\n",
            "1313/1313 [==============================] - 11s 8ms/step - loss: 0.0465 - accuracy: 0.9858 - val_loss: 0.0407 - val_accuracy: 0.9887\n",
            "Epoch 7/10\n",
            "1313/1313 [==============================] - 11s 8ms/step - loss: 0.0463 - accuracy: 0.9862 - val_loss: 0.0437 - val_accuracy: 0.9879\n",
            "Epoch 8/10\n",
            "1313/1313 [==============================] - 11s 8ms/step - loss: 0.0377 - accuracy: 0.9892 - val_loss: 0.0452 - val_accuracy: 0.9882\n",
            "Epoch 9/10\n",
            "1313/1313 [==============================] - 10s 8ms/step - loss: 0.0376 - accuracy: 0.9885 - val_loss: 0.0401 - val_accuracy: 0.9889\n",
            "Epoch 10/10\n",
            "1313/1313 [==============================] - 11s 8ms/step - loss: 0.0344 - accuracy: 0.9893 - val_loss: 0.0457 - val_accuracy: 0.9891\n"
          ]
        }
      ],
      "source": [
        "epoch = 10\n",
        "history = model.fit(train_norm, train_y, epochs=epoch, verbose=1, validation_split=0.3,batch_size=32)"
      ]
    },
    {
      "cell_type": "markdown",
      "metadata": {
        "id": "hhROdczOmQSQ"
      },
      "source": [
        "#Accuracy and loss model"
      ]
    },
    {
      "cell_type": "code",
      "execution_count": null,
      "metadata": {
        "colab": {
          "background_save": true
        },
        "id": "60TdoNYBPtyt",
        "outputId": "04e1fdb9-4f79-4c90-f4c4-d767c811c4a4"
      },
      "outputs": [
        {
          "data": {
            "image/png": "[encoded data removed]",
            "text/plain": [
              "<Figure size 432x288 with 1 Axes>"
            ]
          },
          "metadata": {},
          "output_type": "display_data"
        }
      ],
      "source": [
        "train_accuracy = pd.DataFrame(history.history['accuracy'])\n",
        "val_accuracy = pd.DataFrame(history.history['val_accuracy'])\n",
        "plt.plot(train_accuracy)\n",
        "plt.plot(val_accuracy)\n",
        "plt.xlabel('epochs')\n",
        "plt.ylabel('accuracy')\n",
        "plt.legend('TV')\n",
        "plt.title('train and validation accuracy')\n",
        "plt.show()"
      ]
    },
    {
      "cell_type": "code",
      "execution_count": null,
      "metadata": {
        "colab": {
          "background_save": true
        },
        "id": "TC8aXb-Rl7B_",
        "outputId": "e4e2dec3-8a28-4e22-dda3-77403e81010e"
      },
      "outputs": [
        {
          "data": {
            "image/png": "[encoded data removed]",
            "text/plain": [
              "<Figure size 432x288 with 1 Axes>"
            ]
          },
          "metadata": {},
          "output_type": "display_data"
        }
      ],
      "source": [
        "train_accuracy = pd.DataFrame(history.history['loss'])\n",
        "val_accuracy = pd.DataFrame(history.history['val_loss'])\n",
        "plt.plot(train_accuracy)\n",
        "plt.plot(val_accuracy)\n",
        "plt.xlabel('epochs')\n",
        "plt.ylabel('accuracy')\n",
        "plt.legend('TV')\n",
        "plt.title('train and validation Loss')\n",
        "plt.show()"
      ]
    },
    {
      "cell_type": "markdown",
      "metadata": {
        "id": "oD7YAauymVzp"
      },
      "source": [
        "#Model Prediction"
      ]
    },
    {
      "cell_type": "code",
      "execution_count": null,
      "metadata": {
        "colab": {
          "background_save": true
        },
        "id": "XdnMyvJEQU06"
      },
      "outputs": [],
      "source": [
        "predictions = (model.predict(test_norm) > 0.5).astype(\"int32\")"
      ]
    },
    {
      "cell_type": "markdown",
      "metadata": {
        "id": "6a2SqVt5mdbF"
      },
      "source": [
        "#Classification Report"
      ]
    },
    {
      "cell_type": "code",
      "execution_count": null,
      "metadata": {
        "colab": {
          "background_save": true
        },
        "id": "jbpl0ErVQYzb",
        "outputId": "907d3ad5-5370-4f73-9c62-319d63684124"
      },
      "outputs": [
        {
          "name": "stdout",
          "output_type": "stream",
          "text": [
            "              precision    recall  f1-score   support\n",
            "\n",
            "           0       0.99      1.00      0.99       980\n",
            "           1       0.99      1.00      1.00      1135\n",
            "           2       1.00      1.00      1.00      1032\n",
            "           3       0.99      0.99      0.99      1010\n",
            "           4       1.00      0.99      0.99       982\n",
            "           5       0.99      0.98      0.99       892\n",
            "           6       0.99      0.99      0.99       958\n",
            "           7       0.99      0.99      0.99      1028\n",
            "           8       1.00      0.99      0.99       974\n",
            "           9       0.98      0.98      0.98      1009\n",
            "\n",
            "   micro avg       0.99      0.99      0.99     10000\n",
            "   macro avg       0.99      0.99      0.99     10000\n",
            "weighted avg       0.99      0.99      0.99     10000\n",
            " samples avg       0.99      0.99      0.99     10000\n",
            "\n"
          ]
        },
        {
          "name": "stderr",
          "output_type": "stream",
          "text": [
            "/usr/local/lib/python3.7/dist-packages/sklearn/metrics/_classification.py:1308: UndefinedMetricWarning: Precision and F-score are ill-defined and being set to 0.0 in samples with no predicted labels. Use `zero_division` parameter to control this behavior.\n",
            "  _warn_prf(average, modifier, msg_start, len(result))\n"
          ]
        }
      ],
      "source": [
        "report = classification_report(test_y,predictions)\n",
        "print(report)"
      ]
    },
    {
      "cell_type": "markdown",
      "metadata": {
        "id": "jKlkJe2umgo1"
      },
      "source": [
        "#Recall, Precision, F1-Score"
      ]
    },
    {
      "cell_type": "code",
      "execution_count": null,
      "metadata": {
        "colab": {
          "background_save": true
        },
        "id": "WIRpb_PCRoxn",
        "outputId": "f6347772-0a09-4c10-eff5-1879e61e2b2b"
      },
      "outputs": [
        {
          "name": "stdout",
          "output_type": "stream",
          "text": [
            "Recall Score Model:  0.9901\n",
            "Precision Score Model:  0.9901\n",
            "F1-Score Model:  0.9901\n"
          ]
        },
        {
          "name": "stderr",
          "output_type": "stream",
          "text": [
            "/usr/local/lib/python3.7/dist-packages/sklearn/metrics/_classification.py:1308: UndefinedMetricWarning: Precision is ill-defined and being set to 0.0 in samples with no predicted labels. Use `zero_division` parameter to control this behavior.\n",
            "  _warn_prf(average, modifier, msg_start, len(result))\n"
          ]
        }
      ],
      "source": [
        "\n",
        "recall = recall_score(test_y,predictions,average='samples')\n",
        "precision = precision_score(test_y,predictions,average='samples')\n",
        "f1_score1 = f1_score(test_y,predictions,average='samples')\n",
        "\n",
        "print(\"Recall Score Model: \",recall)\n",
        "print(\"Precision Score Model: \",precision)\n",
        "print(\"F1-Score Model: \",f1_score1)"
      ]
    },
    {
      "cell_type": "markdown",
      "metadata": {
        "id": "44gpg8kWmmiF"
      },
      "source": [
        "#Inverse to_categorial"
      ]
    },
    {
      "cell_type": "code",
      "execution_count": null,
      "metadata": {
        "colab": {
          "background_save": true
        },
        "id": "jklxVKDCRB07"
      },
      "outputs": [],
      "source": [
        "predictions = [np.argmax(y, axis=None, out=None) for y in predictions]\n",
        "test_y = [np.argmax(y, axis=None, out=None) for y in test_y]"
      ]
    },
    {
      "cell_type": "markdown",
      "metadata": {
        "id": "Gr8AbZkWmsl4"
      },
      "source": [
        "#Confusion Matrix"
      ]
    },
    {
      "cell_type": "code",
      "execution_count": null,
      "metadata": {
        "colab": {
          "background_save": true
        },
        "id": "dTBdlE89QuGz"
      },
      "outputs": [],
      "source": [
        "matrix=confusion_matrix(test_y, predictions)"
      ]
    },
    {
      "cell_type": "code",
      "execution_count": null,
      "metadata": {
        "colab": {
          "background_save": true
        },
        "id": "SsTU9N0oWRex",
        "outputId": "2e2f3184-540c-4b0a-84bf-3adcee38c9f7"
      },
      "outputs": [
        {
          "data": {
            "text/plain": [
              "<matplotlib.axes._subplots.AxesSubplot at 0x7fc62060f990>"
            ]
          },
          "execution_count": null,
          "metadata": {},
          "output_type": "execute_result"
        },
        {
          "data": {
            "image/png": "[encoded data removed]",
            "text/plain": [
              "<Figure size 1296x864 with 2 Axes>"
            ]
          },
          "metadata": {},
          "output_type": "display_data"
        }
      ],
      "source": [
        "import seaborn as sn\n",
        "df_cm = pd.DataFrame(matrix, index = [i for i in \"0123456789\"],columns = [i for i in \"0123456789\"])\n",
        "plt.figure(figsize = (18,12))\n",
        "plt.title(\"Confusion Matrix\")\n",
        "sn.heatmap(df_cm, annot=True,fmt='g')"
      ]
    },
    {
      "cell_type": "markdown",
      "metadata": {
        "id": "iJ9ZivzImwu5"
      },
      "source": [
        "#Show Prediction Result"
      ]
    },
    {
      "cell_type": "code",
      "execution_count": null,
      "metadata": {
        "colab": {
          "background_save": true
        },
        "id": "XoNM28ykTFVG",
        "outputId": "45567a26-fdac-4ddf-8654-6939eec16dff"
      },
      "outputs": [
        {
          "data": {
            "image/png": "[encoded data removed]",
            "text/plain": [
              "<Figure size 1296x288 with 20 Axes>"
            ]
          },
          "metadata": {},
          "output_type": "display_data"
        }
      ],
      "source": [
        "fig, ax = plt.subplots(2,10,figsize=(18,4))\n",
        "fig.subplots_adjust(hspace=0.1, wspace=0.1)\n",
        "for i in range(0,20):\n",
        "  plt.subplot(2,10,i+1)\n",
        "  plt.title(predictions[i])\n",
        "  plt.imshow(test_x[i], cmap='gray', vmin=0, vmax=255)\n",
        "  plt.axis('off')\n",
        "plt.show()"
      ]
    },
    {
      "cell_type": "markdown",
      "metadata": {
        "id": "LAgVIXOOm04c"
      },
      "source": [
        "#Making Live Input"
      ]
    },
    {
      "cell_type": "markdown",
      "metadata": {
        "id": "B5m-ahD9ntlS"
      },
      "source": [
        "##JS for live Input"
      ]
    },
    {
      "cell_type": "code",
      "execution_count": null,
      "metadata": {
        "id": "5WaNgjn-bCNJ"
      },
      "outputs": [],
      "source": [
        "Square_Size = 256\n",
        "Brush_Size = 15 \n",
        "filename = \"my_drawing\"\n",
        "filename = filename + \".png\"\n",
        "\n",
        "js_code = '''\n",
        "<style>\n",
        "  .colors-buttons div {\n",
        "      width: 30px;\n",
        "      height: 30px;\n",
        "      margin: 2px;}\n",
        "  div {\n",
        "      display: flex;\n",
        "  }\n",
        "  canvas{border:1px solid black !important;}\n",
        "</style>\n",
        "<canvas id=\"myCanvas\" width=\"%d\" height=\"%d\"></canvas>\n",
        "<div class=\"colors-buttons\">\n",
        "  <div class=\"color\" style=\"background-color: #FFFFFF;\" id-color=\"#FFFFFF\"></div>\n",
        "</div>\n",
        "<script>\n",
        "  var canvas = document.querySelector('canvas')\n",
        "  var ctx = canvas.getContext('2d')\n",
        "  ctx.fillStyle = 'black';\n",
        "  ctx.fillRect( 0, 0, canvas.width, canvas.height)\n",
        "  var Brush_Size = %d\n",
        "  var button = document.querySelector('button')\n",
        "  var mouse = {x: 0, y: 0}\n",
        "  canvas.addEventListener('mousemove', function(e) {\n",
        "    mouse.x = e.pageX - this.offsetLeft\n",
        "    mouse.y = e.pageY - this.offsetTop\n",
        "  })\n",
        "  canvas.onmousedown = ()=>{\n",
        "    ctx.beginPath()\n",
        "    ctx.moveTo(mouse.x, mouse.y)\n",
        "    \n",
        "    canvas.addEventListener('mousemove', onPaint)\n",
        "  }\n",
        "  canvas.onmouseup = ()=>{\n",
        "    canvas.removeEventListener('mousemove', onPaint)\n",
        "  }\n",
        "  var onPaint = ()=>{\n",
        "    ctx.fillRect(mouse.x-( Brush_Size/2), mouse.y-(Brush_Size/2), Brush_Size, Brush_Size)\n",
        "    ctx.stroke()\n",
        "  }\n",
        "  const colors = document.getElementsByClassName('color');\n",
        "  Array.from(colors).forEach(color => {\n",
        "      color.addEventListener('click', (event) => {\n",
        "          const colorSelected = event.target.getAttribute('id-color');\n",
        "          ctx.fillStyle = colorSelected;\n",
        "      });\n",
        "  });\n",
        "    // FINISH BUTTON\n",
        "  var data = new Promise(resolve=>{\n",
        "    button.onclick = ()=>{\n",
        "      resolve(canvas.toDataURL('image/jpg'))\n",
        "    }\n",
        "  })\n",
        "</script>\n",
        "'''"
      ]
    },
    {
      "cell_type": "markdown",
      "metadata": {
        "id": "lYhb6j2snxXY"
      },
      "source": [
        "##Live Draw"
      ]
    },
    {
      "cell_type": "code",
      "execution_count": null,
      "metadata": {
        "colab": {
          "background_save": true,
          "base_uri": "https://localhost:8080/",
          "height": 275
        },
        "id": "SeoUcmoSnmhX",
        "outputId": "a95daccb-4aab-478c-df14-8311c091f031"
      },
      "outputs": [
        {
          "data": {
            "application/vnd.jupyter.widget-view+json": {
              "model_id": "a6c108660a8c48668c935b393db38158",
              "version_major": 2,
              "version_minor": 0
            },
            "text/plain": [
              "Button(description='Save', style=ButtonStyle())"
            ]
          },
          "metadata": {},
          "output_type": "display_data"
        },
        {
          "data": {
            "application/vnd.jupyter.widget-view+json": {
              "model_id": "98204d0f571845b8a585a7fbe2310cf9",
              "version_major": 2,
              "version_minor": 0
            },
            "text/plain": [
              "Output()"
            ]
          },
          "metadata": {},
          "output_type": "display_data"
        },
        {
          "data": {
            "text/html": [
              "\n",
              "<style>\n",
              "  .colors-buttons div {\n",
              "      width: 30px;\n",
              "      height: 30px;\n",
              "      margin: 2px;}\n",
              "  div {\n",
              "      display: flex;\n",
              "  }\n",
              "  canvas{border:1px solid black !important;}\n",
              "</style>\n",
              "<canvas id=\"myCanvas\" width=\"256\" height=\"256\"></canvas>\n",
              "<div class=\"colors-buttons\">\n",
              "  <div class=\"color\" style=\"background-color: #FFFFFF;\" id-color=\"#FFFFFF\"></div>\n",
              "</div>\n",
              "<script>\n",
              "  var canvas = document.querySelector('canvas')\n",
              "  var ctx = canvas.getContext('2d')\n",
              "  ctx.fillStyle = 'black';\n",
              "  ctx.fillRect( 0, 0, canvas.width, canvas.height)\n",
              "  var Brush_Size = 15\n",
              "  var button = document.querySelector('button')\n",
              "  var mouse = {x: 0, y: 0}\n",
              "  canvas.addEventListener('mousemove', function(e) {\n",
              "    mouse.x = e.pageX - this.offsetLeft\n",
              "    mouse.y = e.pageY - this.offsetTop\n",
              "  })\n",
              "  canvas.onmousedown = ()=>{\n",
              "    ctx.beginPath()\n",
              "    ctx.moveTo(mouse.x, mouse.y)\n",
              "    \n",
              "    canvas.addEventListener('mousemove', onPaint)\n",
              "  }\n",
              "  canvas.onmouseup = ()=>{\n",
              "    canvas.removeEventListener('mousemove', onPaint)\n",
              "  }\n",
              "  var onPaint = ()=>{\n",
              "    ctx.fillRect(mouse.x-( Brush_Size/2), mouse.y-(Brush_Size/2), Brush_Size, Brush_Size)\n",
              "    ctx.stroke()\n",
              "  }\n",
              "  const colors = document.getElementsByClassName('color');\n",
              "  Array.from(colors).forEach(color => {\n",
              "      color.addEventListener('click', (event) => {\n",
              "          const colorSelected = event.target.getAttribute('id-color');\n",
              "          ctx.fillStyle = colorSelected;\n",
              "      });\n",
              "  });\n",
              "    // FINISH BUTTON\n",
              "  var data = new Promise(resolve=>{\n",
              "    button.onclick = ()=>{\n",
              "      resolve(canvas.toDataURL('image/jpg'))\n",
              "    }\n",
              "  })\n",
              "</script>\n"
            ],
            "text/plain": [
              "<IPython.core.display.HTML object>"
            ]
          },
          "metadata": {},
          "output_type": "display_data"
        },
        {
          "name": "stdout",
          "output_type": "stream",
          "text": [
            "Image Saved at\n"
          ]
        }
      ],
      "source": [
        "def draw(filename=filename,  w=Square_Size, h=Square_Size, Brush_Size=Brush_Size):\n",
        "  display(HTML(js_code % (w, h, Brush_Size)))\n",
        "  data = eval_js(\"data\")\n",
        "  binary = b64decode(data.split(',')[1])\n",
        "  if AttributeError:\n",
        "    pass\n",
        "  with open(filename, 'wb') as f:\n",
        "    f.write(binary)\n",
        "  return len(binary)\n",
        "  if button2.on_click(on_button_clicked2):\n",
        "    pass\n",
        "  \n",
        "\n",
        "## Action for Reset Button\n",
        "def on_button_clicked(b):\n",
        "  with output:\n",
        "    #display(HTML(canvas_html % ( w=$Square_Size, h=$Square_Size, Brush_Size=$Brush_Size)))\n",
        "    data = eval_js(\"data\")\n",
        "    binary = b64decode(data.split(',')[1])\n",
        "    with open(filename, 'wb') as f:\n",
        "      f.write(binary)\n",
        "  return len(binary)\n",
        "  \n",
        "\n",
        "## Show Save Button & Save outputs\n",
        "button = widgets.Button(description=\"Save\")\n",
        "button.on_click(on_button_clicked)\n",
        "output = widgets.Output()\n",
        "display(button, output)\n",
        "\n",
        "## Show Canvas for the First Time\n",
        "draw(filename=filename,  w=Square_Size, h=Square_Size, Brush_Size=Brush_Size)\n",
        "print(\"Image Saved at\")"
      ]
    },
    {
      "cell_type": "markdown",
      "metadata": {
        "id": "LTNIzJ7mm7J_"
      },
      "source": [
        "##Preprocessing input"
      ]
    },
    {
      "cell_type": "code",
      "execution_count": null,
      "metadata": {
        "colab": {
          "background_save": true
        },
        "id": "v_REX2rieG74"
      },
      "outputs": [],
      "source": [
        "\n",
        "img = cv2.imread('my_drawing.png', cv2.IMREAD_GRAYSCALE)"
      ]
    },
    {
      "cell_type": "code",
      "execution_count": null,
      "metadata": {
        "colab": {
          "background_save": true
        },
        "id": "uO62f-f_fkX5"
      },
      "outputs": [],
      "source": [
        "plt.imshow(img,cmap='gray')\n",
        "plt.axis(\"off\")"
      ]
    },
    {
      "cell_type": "code",
      "execution_count": null,
      "metadata": {
        "colab": {
          "background_save": true
        },
        "id": "QcGIcO_FeTTD"
      },
      "outputs": [],
      "source": [
        "dim = (28, 28)\n",
        "resized = cv2.resize(img, dim, interpolation = cv2.INTER_AREA)"
      ]
    },
    {
      "cell_type": "code",
      "execution_count": null,
      "metadata": {
        "colab": {
          "background_save": true
        },
        "id": "HHfGdypGgjGl"
      },
      "outputs": [],
      "source": [
        "img_norm = resized.reshape((1, 28, 28, 1))\n",
        "img_norm = img_norm.astype('float32')\n",
        "img_norm = img_norm / 255.0"
      ]
    },
    {
      "cell_type": "markdown",
      "metadata": {
        "id": "Zw7JOb4LnEw5"
      },
      "source": [
        "#Predict the Input"
      ]
    },
    {
      "cell_type": "code",
      "execution_count": null,
      "metadata": {
        "colab": {
          "background_save": true
        },
        "id": "dWkq7DA3g2I9"
      },
      "outputs": [],
      "source": [
        "prediction = (model.predict(img_norm) > 0.5).astype(\"int32\")"
      ]
    },
    {
      "cell_type": "code",
      "execution_count": null,
      "metadata": {
        "colab": {
          "background_save": true
        },
        "id": "6EDzxyYSkqXx"
      },
      "outputs": [],
      "source": [
        "prediction = [np.argmax(y, axis=None, out=None) for y in prediction]"
      ]
    },
    {
      "cell_type": "code",
      "execution_count": null,
      "metadata": {
        "colab": {
          "background_save": true
        },
        "id": "Woi4DkAWj9iI",
        "outputId": "9574ce68-f67a-47ef-fcb5-bfa91e2bf768"
      },
      "outputs": [
        {
          "data": {
            "image/png": "[encoded data removed]",
            "text/plain": [
              "<Figure size 432x288 with 1 Axes>"
            ]
          },
          "metadata": {},
          "output_type": "display_data"
        }
      ],
      "source": [
        "plt.title(prediction)\n",
        "plt.imshow(img, cmap='gray', vmin=0, vmax=255)\n",
        "plt.axis('off')\n",
        "plt.show()"
      ]
    }
  ],
  "metadata": {
    "accelerator": "GPU",
    "colab": {
      "collapsed_sections": [
        "MI0971L_lTAq",
        "Afq5vuaslus9",
        "FzdkIlFGmDC-",
        "f2d6oXpOmG3z",
        "D6X2B8GBmKxk",
        "R6efYjGCmOId",
        "hhROdczOmQSQ",
        "oD7YAauymVzp",
        "6a2SqVt5mdbF",
        "jKlkJe2umgo1",
        "44gpg8kWmmiF",
        "Gr8AbZkWmsl4",
        "iJ9ZivzImwu5",
        "LAgVIXOOm04c",
        "B5m-ahD9ntlS",
        "lYhb6j2snxXY",
        "LTNIzJ7mm7J_"
      ],
      "name": "DL_Project.ipynb",
      "provenance": []
    },
    "kernelspec": {
      "display_name": "Python 3",
      "name": "python3"
    },
    "language_info": {
      "name": "python"
    }
  },
  "nbformat": 4,
  "nbformat_minor": 0
}